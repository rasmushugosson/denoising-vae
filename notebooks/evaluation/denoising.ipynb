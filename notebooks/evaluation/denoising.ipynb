{
 "cells": [
  {
   "cell_type": "code",
   "execution_count": null,
   "metadata": {},
   "outputs": [],
   "source": [
    "%reload_ext autoreload\n",
    "\n",
    "# Imports\n",
    "\n",
    "import os\n",
    "import sys\n",
    "module_path = os.path.abspath(os.path.join('../image_gen_dm')) # or the path to your source code\n",
    "sys.path.append(str(module_path))\n",
    "\n",
    "import matplotlib.pyplot as plt\n",
    "import pandas as pd\n",
    "from scipy.ndimage import gaussian_filter\n",
    "\n",
    "TF_ENABLE_ONEDNN_OPTS=0\n",
    "os.environ['TF_ENABLE_ONEDNN_OPTS'] = str(TF_ENABLE_ONEDNN_OPTS)\n",
    "os.environ['TG_GPU_ALLOCATOR'] = 'cuda_malloc_async'"
   ]
  },
  {
   "cell_type": "code",
   "execution_count": null,
   "metadata": {},
   "outputs": [],
   "source": [
    "def compare_images(imageA, imageB):\n",
    "    psnr = PSNR(imageA, imageB)\n",
    "    ssim = SSIM(imageA, imageB)\n",
    "    return psnr, ssim\n",
    "\n",
    "def PSNR(imageA, imageB):\n",
    "    mse = np.mean((imageA - imageB) ** 2)\n",
    "    if mse == 0:\n",
    "        return 100\n",
    "    max_pixel = 255.0\n",
    "    psnr = 20 * np.log10(max_pixel / np.sqrt(mse))\n",
    "    return psnr\n",
    "\n",
    "def ssim_index(imageA, imageB):\n",
    "    # Convert images to grayscale based on luminance (Y)\n",
    "    y = 0.299 * imageA[:, :, 0] + 0.587 * imageA[:, :, 1] + 0.114 * imageA[:, :, 2]\n",
    "    x = 0.299 * imageB[:, :, 0] + 0.587 * imageB[:, :, 1] + 0.114 * imageB[:, :, 2]\n",
    "\n",
    "    y = y.astype(np.float64)\n",
    "    x = x.astype(np.float64)\n",
    "\n",
    "    # Constants for SSIM index formula\n",
    "    C1 = (0.01 * 255) ** 2\n",
    "    C2 = (0.03 * 255) ** 2\n",
    "    window_size = 11\n",
    "    sigma = 1.5  # Standard deviation for Gaussian kernel\n",
    "\n",
    "    # Gaussian window/weights\n",
    "    window = np.outer(np.hanning(window_size), np.hanning(window_size))\n",
    "    window /= window.sum()\n",
    "\n",
    "    # Local means using Gaussian weights\n",
    "    mu_x = gaussian_filter(x, sigma)\n",
    "    mu_y = gaussian_filter(y, sigma)\n",
    "\n",
    "    # Local variance and covariance\n",
    "    sigma_x2 = gaussian_filter(x**2, sigma) - mu_x**2\n",
    "    sigma_y2 = gaussian_filter(y**2, sigma) - mu_y**2\n",
    "    sigma_xy = gaussian_filter(x * y, sigma) - mu_x * mu_y\n",
    "\n",
    "    # Calculate SSIM index\n",
    "    num = (2 * mu_x * mu_y + C1) * (2 * sigma_xy + C2)\n",
    "    den = (mu_x**2 + mu_y**2 + C1) * (sigma_x2 + sigma_y2 + C2)\n",
    "    ssim_map = num / den\n",
    "\n",
    "    return np.mean(ssim_map)"
   ]
  }
 ],
 "metadata": {
  "language_info": {
   "name": "python"
  }
 },
 "nbformat": 4,
 "nbformat_minor": 2
}
