{
 "cells": [
  {
   "cell_type": "code",
   "execution_count": null,
   "metadata": {},
   "outputs": [],
   "source": [
    "%reload_ext autoreload\n",
    "\n",
    "# Imports\n",
    "\n",
    "import os\n",
    "import sys\n",
    "module_path = os.path.abspath(os.path.join('../image_gen_dm')) # or the path to your source code\n",
    "sys.path.append(str(module_path))\n",
    "\n",
    "import matplotlib.pyplot as plt\n",
    "import pandas as pd\n",
    "\n",
    "TF_ENABLE_ONEDNN_OPTS=0\n",
    "os.environ['TF_ENABLE_ONEDNN_OPTS'] = str(TF_ENABLE_ONEDNN_OPTS)\n",
    "os.environ['TG_GPU_ALLOCATOR'] = 'cuda_malloc_async'\n"
   ]
  },
  {
   "cell_type": "code",
   "execution_count": null,
   "metadata": {},
   "outputs": [],
   "source": [
    "# NCVAE\n",
    "\n",
    "df = pd.read_csv('res/histories/ncvae.csv')\n",
    "\n",
    "df['loss_avg'] = df['loss'].rolling(window=32).mean()\n",
    "\n",
    "print(df['loss_avg'].iloc[-1])"
   ]
  },
  {
   "cell_type": "code",
   "execution_count": null,
   "metadata": {},
   "outputs": [],
   "source": [
    "# CVAE\n",
    "\n",
    "df = pd.read_csv('res/histories/cvae.csv')\n",
    "\n",
    "df['loss_avg'] = df['loss'].rolling(window=32).mean()\n",
    "\n",
    "print(df['loss_avg'].iloc[-1])"
   ]
  }
 ],
 "metadata": {
  "kernelspec": {
   "display_name": "Python 3 (ipykernel)",
   "language": "python",
   "name": "python3"
  },
  "language_info": {
   "codemirror_mode": {
    "name": "ipython",
    "version": 3
   },
   "file_extension": ".py",
   "mimetype": "text/x-python",
   "name": "python",
   "nbconvert_exporter": "python",
   "pygments_lexer": "ipython3",
   "version": "3.11.4"
  }
 },
 "nbformat": 4,
 "nbformat_minor": 2
}
